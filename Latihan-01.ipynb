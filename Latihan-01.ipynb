{
 "cells": [
  {
   "cell_type": "markdown",
   "metadata": {},
   "source": [
    "#### <center>Latihan 01</center>\n",
    "## <center><font color=\"blue\">Komputer dan Program</font></center>\n",
    "### <center><font color=\"red\">Pemrograman Komputer</font></center>\n",
    "<center>Semester Ganjil 2017/2018</center>"
   ]
  },
  {
   "cell_type": "markdown",
   "metadata": {},
   "source": [
    "Untuk dapat mengikuti, memahami dan menguasai perkuliahan ini dengan baik maka para mahasiswa peserta kuliah dianjurkan untuk menerapkan lingkungan pengembangan program Python pada komputernya masing-masing. Lingkungan pengembangan program tersebut termasuk:\n",
    "\n",
    "- _Interpreter_ Bahasa Python 3.6.2\n",
    "- _Integrated Development and Learning Environment_ atau IDLE\n",
    "- Jupyter Notebook 4.3.0\n",
    "\n",
    "Ketiga lingkungan tersebut dapat dipasang pada komputer mahasiswa dengan mengikuti serangkaian tuntunan di bawah ini."
   ]
  },
  {
   "cell_type": "markdown",
   "metadata": {},
   "source": [
    "### <font color=\"blue\">Soal #1 &#8594; <tt>Command Prompt</tt></font>\n",
    "\n",
    "Program `Terminal` atau `Command Prompt` diperlukan ketika pemrogram melakukan instalasi perangkat-lunak, penyesuaian konfigurasi komputer dan pekerjaan-pekerjaan lain yang terkait dengan sistem operasi (_operating system_ atau OS).\n",
    "\n",
    "<span style=\"color:red\">&#9881;</span> Ikutilah tuntunan berikut untuk membuka dan menyesuaikan tampilan `Command Prompt` pada komputer dengan sistem operasi Windows 10.\n",
    "\n",
    "- <a href=\"tuntunan/membuka_command_prompt/membuka_command_prompt.htm\" target=\"_blank\">Langkah-langkah untuk membuka <tt>Command Prompt</tt></a>\n",
    "- <a href=\"tuntunan/mengubah_command_prompt/mengubah_command_prompt.htm\" target=\"_blank\">Langkah-langkah untuk mengubah tampilan <tt>Command Prompt</tt></a>"
   ]
  },
  {
   "cell_type": "markdown",
   "metadata": {},
   "source": [
    "### <font color=\"blue\">Soal #2 &#8594; <i>Interpreter</i> Python dan IDLE</font>\n",
    "\n",
    "Setalah paket program Python diunduh dari situs web <a href=\"https://www.python.org\" target=\"_blank\">https://www.python.org</a> dan dilakukan instalasi pada komputer dengan sistem Windows 10 maka pengguna komputer disajikan dengan dua lingkungan pengembangan program yang dasar, yakni: _interpreter_ dan IDLE.\n",
    "\n",
    "<span style=\"color:red\">&#9881;</span> Ikutilah tuntunan berikut untuk mengunduh dan melakukan instalasi paket program Python pada komputer dengan sistem operasi Windows 10.\n",
    "\n",
    "- <a href=\"tuntunan/mengunduh_python/mengunduh_python.htm\" target=\"_blank\">Langkah-langkah untuk mengunduh Python</a>\n",
    "- <a href=\"tuntunan/menginstalasi_python/menginstalasi_python.htm\" target=\"_blank\">Langkah-langkah untuk menginstalasi Python</a>\n",
    "\n",
    "Selanjutnya menu utama Windows (dengan menekan tombol `[Start]`) dapat dipergunakan untuk menemukan menu `Python 3.6` dan dua pilihan: `Python 3.6` atau `IDLE`."
   ]
  },
  {
   "cell_type": "markdown",
   "metadata": {},
   "source": [
    "### <font color=\"blue\">Soal #3 &#8594; Jupyter Notebook</font>\n",
    "\n",
    "Lingkungan pengembangan terpadu Python yang lebih canggih dinamakan Jupyter Notebook atau dahulu disebut sebagai IPython (_Interactive Python_) Notebook. Dengan lingkungan ini, pengembangan program menjadi lebih luwes dan lebih beragam. Hal ini dikarenakan Jupyter Notebook menyediakan fasilitas untuk merancang dan menguji kode-sumber serta sekaligus fasilitas untuk membuat berbagai jenis dokumen yang mendukung kode-sumber tersebut.\n",
    "\n",
    "<span style=\"color:red\">&#9881;</span> Ikutilah tuntunan berikut untuk mengunduh dan melakukan instalasi paket program Jupyter Notebook pada komputer dengan sistem operasi Windows 10.\n",
    "\n",
    "- <a href=\"tuntunan/menginstalasi_jupyter/menginstalasi_jupyter.htm\" target=\"_blank\">Langkah-langkah untuk mengunduh dan menginstalasi Jupyter Notebook</a>\n",
    "\n",
    "Sesuai dengan langkah terakhir yang dituntunkan di atas, Jupyter Notebook dapat diaktifkan dengan membuka `Command Prompt` terlebih dahulu dan memberikan perintah: `jupyter notebook`."
   ]
  },
  {
   "cell_type": "markdown",
   "metadata": {},
   "source": [
    "### <font color=\"blue\">Soal #4 &#8594; IDLE secara interaktif</font>\n",
    "\n",
    "Selain _interpreter_ yang berjalan dalam jendela `Command Prompt`, instalasi Python juga menyertakan lingkungan IDLE yang merupakan sarana belajar pemrograman yang cukup lengkap. IDLE menyediakan dua lingkungan untuk belajar membuat program:\n",
    "\n",
    "1. Jendela interaktif yang menampilkan _prompt_ berupa lambang _chevron_ `>>>` yang siap untuk menerima perintah Python dan langsung mengerjakannya ketika ditekan tombol `[Enter]`\n",
    "2. Jendela penyuntingan program berupa editor untuk membuat program yang baru serta untuk membuka dan mengubah program yang sudah dibuat sebelumnya\n",
    "\n",
    "<span style=\"color:red\">&#9881;</span> Bukalah program IDLE dengan menekan tombol `[Start]` Windows dan memilih `Python 3.6 | IDLE`. Tampilan yang muncul di layar penampil adalah seperti gambar  berikut:\n",
    "<p>\n",
    "<center><img src=\"gambar/idle_interaktif.png\" alt=\"IDLE interaktif\"></center>\n",
    "\n",
    "<span style=\"color:red\">&#9881;</span> Jalankan perintah-perintah berikut satu-per-satu dalam jendela IDLE interaktif dan pelajari tanggapan _interperter_ Python untuk setiap perintah:\n",
    "~~~\n",
    "print('Halo Dunia!')\n",
    "\n",
    "print(\"Halo\", 'Dunia!')\n",
    "\n",
    "print(12)\n",
    "\n",
    "print(12.0)\n",
    "\n",
    "print(12 + 8)\n",
    "\n",
    "print(12.0 + 8.0)\n",
    "\n",
    "print('12' + \"8\")\n",
    "\n",
    "print('12 + 8 =', 12 + 8)\n",
    "\n",
    "print(12 * 8)\n",
    "\n",
    "print(12 ** 8)\n",
    "\n",
    "print(12 / 8)\n",
    "\n",
    "print(12 // 8)\n",
    "\n",
    "print(12 % 8)\n",
    "\n",
    "~~~"
   ]
  },
  {
   "cell_type": "markdown",
   "metadata": {},
   "source": [
    "### <font color=\"blue\">Soal #5 &#8594; IDLE sebagai editor</font>\n",
    "\n",
    "Ketika berada di dalam lingkungan IDLE dan dipilih menu `File | New File` maka akan muncul jendela untuk menyunting kode-sumber suatu program Python yang baru seperti gambar berikut:\n",
    "<p>\n",
    "<center><img src=\"gambar/idle_editor.png\" alt=\"IDLE editor\"></center>\n",
    "\n",
    "<span style=\"color:red\">&#9881;</span> Bukalah berkas (_file_) Python yang bernama `kode-sumber/perkenalan.py` dengan memilih menu IDLE: `File | Open...`. Lakukanlah langkah-langkah berikut:\n",
    "\n",
    "1. Pelajarilah kode-sumber `perkenalan.py`.\n",
    "2. Jalankan program tersebut dengan menekan tombol `[F5]` atau menu IDLE: `Run | Run Module`.\n",
    "3. Pelajarilah keluaran program pada jendela IDLE yang interaktif.\n",
    "\n",
    "<span style=\"color:red\">&#9881;</span> Ubahlah kode-sumber `perkenalan.py` dengan mengikuti langkah-langkah berikut:\n",
    "\n",
    "1. Dengan menggunakan menu IDLE: `File | Save as...`, simpanlah berkas kode-sumber ke dalam direktori (_folder_) yang sama tetapi dengan nama yang baru: `PK-Latihan01-88888.py` dengan bagian `88888` digantikan dengan Nomor Induk Fakultas (NIF) anda.\n",
    "2. Ubahlah bagian komentar:\n",
    "    - Bagian komentar adalah baris-baris yang dimulai dengan tagar `#` di bagian awal program.\n",
    "    - Ganti nama berkas agar sesuai dengan nama berkas yang baru.\n",
    "    - Hapus baris yang memuat `Petunjuk: ubahlah...`.\n",
    "    - Ganti nama pemrogram dan tanggal dengan nama anda dan waktu anda mengubah kode-sumber.\n",
    "4. Hapuslah semua baris di bawah bagian komentar.\n",
    "5. Buatlah kode-sumber baru yang menampilkan keluaran program dengan 4 bagian sebagai berikut:\n",
    "    - Pada bagian __pertama__ $\\rightarrow$ satu baris yang berisikan pesan `Halo Dunia!`. Bagian ini ditata secara rata-kiri (_left justified_).\n",
    "    - Pada bagian __kedua__ $\\rightarrow$ satu baris yang berisikan perkenalan nama dan nomor mahasiswa anda. Bagian ini ditata secara rata-kiri (_left justified_).\n",
    "    - Pada bagian __ketiga__ $\\rightarrow$ beberapa baris yang berisikan kutipan (_quote_) tentang Python yang dapat anda temukan dari berbagai pustaka. Bagian ini ditata sehingga terletak di tengah layar komputer (_centered_). Kutipan dibatasi dengan sepasang tanda-kutip.\n",
    "    - Pada bagian __keempat__ $\\rightarrow$ tuliskan sumber kutipan berupa nama lengkap dan tahun terbit. Bagian ini ditata secara rata-kanan (_right justified_).\n",
    "\n",
    "<span style=\"color:red\">&#9881;</span> Pastikanlah program yang anda buat sudah berjalan sesuai yang diperintahkan di atas. Lalu lampirkan berkas kode-sumber yang anda buat pada suatu surel (_email_) yang dikirimkan ke alamat: `agusarif@outlook.com` dengan subyek: `PK-Latihan01`."
   ]
  }
 ],
 "metadata": {
  "kernelspec": {
   "display_name": "Python 3",
   "language": "python",
   "name": "python3"
  },
  "language_info": {
   "codemirror_mode": {
    "name": "ipython",
    "version": 3
   },
   "file_extension": ".py",
   "mimetype": "text/x-python",
   "name": "python",
   "nbconvert_exporter": "python",
   "pygments_lexer": "ipython3",
   "version": "3.6.2"
  }
 },
 "nbformat": 4,
 "nbformat_minor": 2
}
