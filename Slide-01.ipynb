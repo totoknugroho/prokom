{
 "cells": [
  {
   "cell_type": "markdown",
   "metadata": {
    "slideshow": {
     "slide_type": "slide"
    }
   },
   "source": [
    "#### <center><i>Slide</i> 01</center>\n",
    "## <center><font color=\"blue\">Komputer dan Program</font></center>\n",
    "### <center><font color=\"red\">Pemrograman Komputer</font></center>\n",
    "<center>Semester Ganjil 2017/2018</center>"
   ]
  },
  {
   "cell_type": "markdown",
   "metadata": {
    "slideshow": {
     "slide_type": "slide"
    }
   },
   "source": [
    "### <center><font color=\"blue\">Sasaran</font></center>\n",
    "\n",
    "- Mengetahui tujuan & sumber belajar Pemrograman Komputer\n",
    "- Memahami peranan perangkat-keras & perangkat-lunak dlm sistem komputasi\n",
    "- Mengetahui apa yg dipelajari ilmuwan komputer & teknik$^2$ yg mereka pergunakan\n",
    "- Memahami desain dasar dr komputer modern\n",
    "- Memahami bentuk & fungsi dr bahasa pemrograman komputer\n",
    "- Mampu menggunakan Bahasa Python secara mendasar"
   ]
  },
  {
   "cell_type": "markdown",
   "metadata": {
    "slideshow": {
     "slide_type": "slide"
    }
   },
   "source": [
    "### <center><font color=\"blue\">Tujuan Kuliah</font></center>\n",
    "\n",
    "Setelah mengikuti rangkaian perkuliahan ini, mahasiswa peserta kuliah diharapkan mampu\n",
    "\n",
    "1. <font color=\"red\">membaca</font> (memahami) program dalam Bahasa Python dan\n",
    "2. <font color=\"red\">menulis</font> (membuat) program Python untuk membantu penyelesaian masalah keteknikan\n",
    "\n",
    "Untuk mencapai tujuan tersebut, mahasiswa akan belajar untuk menguasai\n",
    "\n",
    "- teknik pemrograman terstruktur,\n",
    "- teknik pemrograman yang benar, dan\n",
    "- lingkungan pengembangan program Python\n",
    "\n",
    "Prasyarat: matematika dan fisika"
   ]
  },
  {
   "cell_type": "markdown",
   "metadata": {
    "slideshow": {
     "slide_type": "slide"
    }
   },
   "source": [
    "### <center><font color=\"blue\">Sumber Belajar</font></center>\n",
    "\n",
    "- Buku-ajar <img src=\"gambar/buku_ajar.png\" alt=\"Buku-ajar\" align=\"right\"> \n",
    "    - Judul: <i>Python Programming: An Introduction to Computer Science</i>\n",
    "    - Edisi: 2\n",
    "    - Penulis: John M. Zelle, PhD\n",
    "    - Penerbit: Franklin, Beedle & Associates\n",
    "    - Situs: <a href=\"http://mcsp.wartburg.edu/zelle/python/ppics2/index.html\" target=\"_blank\">mcsp.wartburg.edu/zelle/python/ppics2/index.html</a><br>\n",
    "    \n",
    "- Situs <font color=\"red\">eLisa</font> (<i>eLearning System for Academic Community</i>)\n",
    "    - Komunitas: Pemrograman Komputer\n",
    "    - Pengampu: Ir. Agus Arif, MT\n",
    "    - Situs: <a href=\"http://elisa.ugm.ac.id/community/show/pemrograman-komputer/\" target=\"_blank\">elisa.ugm.ac.id/community/show/pemrograman-komputer/</a>"
   ]
  },
  {
   "cell_type": "markdown",
   "metadata": {
    "slideshow": {
     "slide_type": "slide"
    }
   },
   "source": [
    "### <center><font color=\"blue\">Mesin Serbaguna</font></center>\n",
    "\n",
    "- Komputer modern = \"<font color=\"red\">mesin</font> yg menyimpan & memanipulasi informasi dgn dikendalikan suatu program yg dpt diubah-ubah\"\n",
    "- Dua elemen penting:\n",
    "    - Komputer = piranti yg memanipulasi informasi.\n",
    "    - Komputer bekerja di bawah kendali suatu <font color=\"red\">program</font> yg dpt diubah-ubah (_changeable_)"
   ]
  },
  {
   "cell_type": "markdown",
   "metadata": {
    "slideshow": {
     "slide_type": "slide"
    }
   },
   "source": [
    "### <center><font color=\"blue\">Apakah Program Komputer Itu?</font></center>\n",
    "\n",
    "- Sekumpulan perintah/instruksi yg rinci & langkah-demi-langkah utk memberitahukan komputer agar melakukan suatu tujuan\n",
    "- Jk program diubah mk komputer melaksanakan sekumpulan aksi yg berbeda & tujuan yg berbeda\n",
    "- Mesinnya tetap sama namun programnya dapat berbeda-beda!"
   ]
  },
  {
   "cell_type": "markdown",
   "metadata": {
    "slideshow": {
     "slide_type": "subslide"
    }
   },
   "source": [
    "### <center><font color=\"blue\">Apakah Program Komputer Itu?</font></center>\n",
    "\n",
    "- Program dibuat utk <font color=\"red\">dijalankan</font> (_executed_) atau dilaksanakan komputer\n",
    "- Dgn program yg sesuai mk semua komputer memiliki kemampuan yg sama = stp komputer dpt melaksanakan kerja yg dilakukan oleh komputer lainnya"
   ]
  },
  {
   "cell_type": "markdown",
   "metadata": {
    "slideshow": {
     "slide_type": "subslide"
    }
   },
   "source": [
    "### <center><font color=\"blue\">Keampuhan Program</font></center>\n",
    "\n",
    "- Perangkat-lunak (_software_) = program mengatur/mengendalikan perangkat-keras (_hardware_) = mesin fisik dr komputer\n",
    "- Proses membuat perangkat-lunak = <font color=\"red\">pemrograman</font>\n",
    "- Mengapa belajar pemrograman?\n",
    "    - Bagian mendasar dari ilmu komputer\n",
    "    - Paham pemrograman = mengetahui keampuhan & keterbatasan dr komputer\n",
    "    - Menjadikan pengguna komputer yg lebih cerdas\n",
    "    - Pemrograman dapat menyenangkan!\n",
    "    - Pemrograman = bentuk dr ekspresi diri\n",
    "    - Mengembangkan kemampuan memecahkan persoalan (_problem solving_) dgn mereduksi sistem yg ruwet $\\Rightarrow$ interaksi di antara bagian$^2$ yg lebih sederhana\n",
    "    - Pemrogram sedang dibutuhkan dunia kerja dlm jumlah yg banyak!"
   ]
  },
  {
   "cell_type": "markdown",
   "metadata": {
    "slideshow": {
     "slide_type": "slide"
    }
   },
   "source": [
    "### <center><font color=\"blue\">Apakah Ilmu Komputer Itu?</font></center>\n",
    "\n",
    "- Bukan studi ttg komputer! <img src=\"gambar/ew_dijkstra.png\" alt=\"EW Dijkstra\" align=\"right\" height=\"100\" width=\"100\">\n",
    "> \"Komputer bagi ilmu komputer seperti teleskop bagi ilmu astronomi\" (EW Dijkstra)\n",
    "- Pertanyaan mnjd \"Proses apa saja yg dpt diungkapkan dgn komputer?\"\n",
    "- Pertanyaan sesungguhnya = \"Apa saja yg dpt dikomputasikan?\"\n",
    "- Pertanyaan ini dijawab ilmuwan komputer dgn 3 teknik/pendekatan utama:\n",
    "    - Desain\n",
    "    - Analisis\n",
    "    - Eksperimen"
   ]
  },
  {
   "cell_type": "markdown",
   "metadata": {
    "slideshow": {
     "slide_type": "subslide"
    }
   },
   "source": [
    "### <center><font color=\"blue\">Apakah Ilmu Komputer Itu?</font></center>\n",
    "\n",
    "- Desain:\n",
    "    - Satu cara utk menunjukkan bhw persoalan dpt dipecahkan adl dgn benar$^2$ merancang solusinya\n",
    "    - Hal ini dilakukan dgn membuat <font color=\"red\">algoritma</font> = proses langkah-demi-langkah utk mencapai hasil yg diinginkan\n",
    "    - Kelemahan = desain hanya dpt membuktikan kasus yg positif, namun tdk dpt membuktikan kasus yg negatif!\n",
    "        - kasus positif = jk dpt dibuat algoritma mk persoalan dpt dipecahkan\n",
    "        - kasus negatif = jk tdk dpt dibuat algoritma mk persoalan tdk dpt dipecahkan"
   ]
  },
  {
   "cell_type": "markdown",
   "metadata": {
    "slideshow": {
     "slide_type": "subslide"
    }
   },
   "source": [
    "### <center><font color=\"blue\">Apakah Ilmu Komputer Itu?</font></center>\n",
    "\n",
    "- Analisis:\n",
    "    - Analisis = proses mempelajari algortima & persoalan secara matematika\n",
    "    - Beberapa persoalan yg terlihat sederhana ternyata tdk dpt diselesaikan dgn algoritma $\\rightarrow$ persoalan yg tdk dpt dipecahkan (_unsolvable_)\n",
    "    - Beberapa persoalan memerlukan sumber-daya (memori & waktu) yg sangat banyak $\\rightarrow$ persoalan yg tdk praktis utk diselesaikan (_intractable_)"
   ]
  },
  {
   "cell_type": "markdown",
   "metadata": {
    "slideshow": {
     "slide_type": "subslide"
    }
   },
   "source": [
    "### <center><font color=\"blue\">Apakah Ilmu Komputer Itu?</font></center>\n",
    "\n",
    "- Eksperimen:\n",
    "    - Beberapa persoalan adl sedemikian rumitnya shg tdk dpt dianalisis\n",
    "    - Wujudkan/implementasikan sistem dr persoalan tsb lalu pelajari kelakuannya secara coba-coba"
   ]
  },
  {
   "cell_type": "markdown",
   "metadata": {
    "slideshow": {
     "slide_type": "slide"
    }
   },
   "source": [
    "### <center><font color=\"blue\">Dasar-dasar Perangkat-Keras</font></center>\n",
    "\n",
    "<center><img src=\"gambar/perangkat_keras.png\" alt=\"Perangkat-keras\"></center>\n",
    "\n",
    "- Unit pengolahan utama (_Central Processing Unit_ = CPU) adl <font color=\"red\">otak</font> dr komputer\n",
    "    - CPU yg melaksanakan semua operasi dasar pd data\n",
    "    - Contoh:\n",
    "        - operasi aritmetika sederhana\n",
    "        - menguji apakah dua bilangan adl sama besarnya"
   ]
  },
  {
   "cell_type": "markdown",
   "metadata": {
    "slideshow": {
     "slide_type": "subslide"
    }
   },
   "source": [
    "### <center><font color=\"blue\">Dasar-dasar Perangkat-Keras</font></center>\n",
    "\n",
    "<center><img src=\"gambar/perangkat_keras.png\" alt=\"Perangkat-keras\"></center>\n",
    "\n",
    "- Memori menyimpan program dan data\n",
    "    - CPU hanya dpt mengakses informasi dlm <font color=\"red\">memori utama</font> = _Random Access Memory_ (RAM)\n",
    "    - Memori utama memang cepat tp mudah menguap (_volatile_) = ktk daya diputus mk isi memori lenyap semua\n",
    "    - Memori sekunder menyediakan penyimpanan yg permanen:\n",
    "        - memori magnetik = _hard drive_, _floppy_\n",
    "        - memori optik = CD, DVD"
   ]
  },
  {
   "cell_type": "markdown",
   "metadata": {
    "slideshow": {
     "slide_type": "subslide"
    }
   },
   "source": [
    "### <center><font color=\"blue\">Dasar-dasar Perangkat-Keras</font></center>\n",
    "\n",
    "<center><img src=\"gambar/perangkat_keras.png\" alt=\"Perangkat-keras\"></center>\n",
    "\n",
    "- Piranti Input\n",
    "    - Informasi dimasukkan ke dalam komputer melalui papan-ketik (_keyboard_), tetikus (_mouse_), dsb\n",
    "- Piranti Output\n",
    "    - Informasi hasil pengolahan disajikan kpd pengguna melalui penampil (_monitor_), pencetak (_printer_), dsb "
   ]
  },
  {
   "cell_type": "markdown",
   "metadata": {
    "slideshow": {
     "slide_type": "subslide"
    }
   },
   "source": [
    "### <center><font color=\"blue\">Dasar-dasar Perangkat-Keras</font></center>\n",
    "\n",
    "- Siklus Ambil-Jalankan\n",
    "    - Istilah yg lebih lengkap = _Fetch-Decode-Execute_\n",
    "    - Ambil perintah pertama dr memori\n",
    "    - Pecahkan-sandi (_decode_) perintah tsb utk menentukan maksudnya\n",
    "    - Jalankan aksi yg tepat\n",
    "    - Ambil perintah berikutnya $\\rightarrow$ pecahkan-sandi $\\rightarrow$ jalankan $\\rightarrow$ ulangi"
   ]
  },
  {
   "cell_type": "markdown",
   "metadata": {
    "slideshow": {
     "slide_type": "slide"
    }
   },
   "source": [
    "### <center><font color=\"blue\">Bahasa Pemrograman</font></center>\n",
    "\n",
    "- Bahasa alamiah mengandung masalah arti-ganda (_ambiguity_) & tidak-cermat (_imprecision_) ktk dipergunakan utk mengungkapkan algoritma\n",
    "    - Program dpt diungkapkan secara arti-tunggal & cermat dgn menggunakan <font color=\"red\">bahasa pemrograman</font>\n",
    "    - Stp struktur dlm bahasa pemrograman memiliki\n",
    "        - bentuk yg tepat $\\rightarrow$ sintaksis\n",
    "        - arti yg tepat $\\rightarrow$ semantik"
   ]
  },
  {
   "cell_type": "markdown",
   "metadata": {
    "slideshow": {
     "slide_type": "subslide"
    }
   },
   "source": [
    "### <center><font color=\"blue\">Bahasa Pemrograman</font></center>\n",
    "\n",
    "- Bahasa pemrograman menyerupai sandi/<font color=\"red\">kode</font> utk menulis perintah yg akan dipatuhi oleh komputer\n",
    "    - Pemrogram acapkali menyebut programnya sbg kode komputer atau kode-sumber (_source code_)\n",
    "    - Proses menulis algoritma memakai suatu bahasa pemrograman seringkali disebut sbg _coding_"
   ]
  },
  {
   "cell_type": "markdown",
   "metadata": {
    "slideshow": {
     "slide_type": "subslide"
    }
   },
   "source": [
    "### <center><font color=\"blue\">Bahasa Pemrograman</font></center>\n",
    "\n",
    "- Bahasa komputer aras-tinggi\n",
    "    - Aras-tinggi = _high-level_\n",
    "    - Dirancang utk dipergunakan & dipahami oleh manusia\n",
    "- Bahasa komputer aras-rendah\n",
    "    - Aras-rendah =  _low-level_\n",
    "    - Perangkat-keras hanya dpt memahami aras bahasa yg sangat rendah = <font color=\"red\">bahasa mesin</font>"
   ]
  },
  {
   "cell_type": "markdown",
   "metadata": {
    "slideshow": {
     "slide_type": "subslide"
    }
   },
   "source": [
    "### <center><font color=\"blue\">Bahasa Pemrograman</font></center>\n",
    "\n",
    "- Menambahkan dua bilangan:\n",
    "    - Muat bilangan pertama dr lokasi memori 2001 ke CPU\n",
    "    - Muat bilangan kedua dr lokasi memori 2002 ke CPU\n",
    "    - Tambahkan kedua bilangan tsb di dlm CPU\n",
    "    - Simpan hasil penambahan ke lokasi memori 2003\n",
    "- Pada kenyataannya, perintah$^2$ aras-rendah di atas dinyatakan sbg bilangan <font color=\"red\">biner</font> (0 & 1)"
   ]
  },
  {
   "cell_type": "markdown",
   "metadata": {
    "slideshow": {
     "slide_type": "subslide"
    }
   },
   "source": [
    "### <center><font color=\"blue\">Bahasa Pemrograman</font></center>\n",
    "\n",
    "- Penambahan dua bilangan dlm bahasa aras-tinggi: `c = a + b`\n",
    "- Perintah tsb harus diterjemahkan mnjd bahasa mesin yg dpt dijalankan komputer\n",
    "- Program yg disebut <font color=\"red\"><i>compiler</i></font> mengubah progam$^2$ yg ditulis dlm bahasa aras-tinggi mnjd bahasa mesin dr komputer tertentu"
   ]
  },
  {
   "cell_type": "markdown",
   "metadata": {
    "slideshow": {
     "slide_type": "subslide"
    }
   },
   "source": [
    "### <center><font color=\"blue\">Bahasa Pemrograman</font></center>\n",
    "\n",
    "- Program yg disebut <font color=\"red\"><i>interpreter</i></font> melakukan simulasi suatu komputer yg (seakan-akan) mampu memahami bahasa aras-tinggi\n",
    "- Kode-sumber tdk diterjemahkan mnjd bahasa mesin scr sekaligus\n",
    "- _Interpreter_ menganalisis & menjalankan kode-sumber scr perintah-demi-perintah"
   ]
  },
  {
   "cell_type": "markdown",
   "metadata": {
    "slideshow": {
     "slide_type": "subslide"
    }
   },
   "source": [
    "### <center><font color=\"blue\">Bahasa Pemrograman</font></center>\n",
    "\n",
    "- _Compiling_ lawan _Interpreting_:\n",
    "    - Stlh program dikompilasi, ia dpt dijalankan berkali-kali tanpa memerlukan kode-sumber & _compiler_\n",
    "    - Jk program diinterpretasi mk kode-sumber & _interpreter_ diperlukan stp kali program dijalankan\n",
    "    - Program terkompilasi umumnya berjalan lebih cepat krn penerjemahan kode-sumber terjadi hanya sekali\n",
    "    - Bahasa pemrograman dgn _interpreter_ merupakan bagian dr lingkungan pengembangan program yg luwes krn program dpt dibuat & dijalankan scr interaktif\n",
    "    - Program terinterpretasi lebih <font color=\"red\"><i>portable</i></font> yg berarti:\n",
    "        - kode _executable_ yg dihasilkan dgn kompilasi pd mesin Pentium tdk dpt dijalankan pd mesin Mac, kecuali dilakukan kompilasi-ulang\n",
    "        - jk sdh tersedia _interpreter_ yg sesuai mk kode-sumber dpt dijalankan tanpa pengubahan sama sekali"
   ]
  },
  {
   "cell_type": "markdown",
   "metadata": {
    "slideshow": {
     "slide_type": "subslide"
    }
   },
   "source": [
    "### <center><font color=\"blue\">Bahasa Pemrograman</font></center>\n",
    "\n",
    "<br>\n",
    "<center><img src=\"gambar/kerja_compiler.png\" alt=\"Compiler\"></center>\n",
    "<br>\n",
    "<center><img src=\"gambar/kerja_interpreter.png\" alt=\"Interpreter\"></center>"
   ]
  },
  {
   "cell_type": "markdown",
   "metadata": {
    "slideshow": {
     "slide_type": "slide"
    }
   },
   "source": [
    "### <center><font color=\"blue\">Keampuhan Python</font></center>\n",
    "\n",
    "Ktk _interpreter_ Python dijalankan dlm suatu <font color=\"red\">terminal</font> mk akan terlihat tampilan mirip:\n",
    "<br>\n",
    "<center><img src=\"gambar/panggil_python.png\" alt=\"Python\"></center>"
   ]
  },
  {
   "cell_type": "markdown",
   "metadata": {
    "slideshow": {
     "slide_type": "subslide"
    }
   },
   "source": [
    "### <center><font color=\"blue\">Keampuhan Python</font></center>\n",
    "\n",
    "- Lambang _chevron_ `>>>` menandakan <font color=\"red\">_prompt_</font> Python yg berarti _interpreter_ sdh siap utk menerima perintah/instruksi baru\n",
    "    - Satu baris perintah = _statement_\n",
    "    - Contohnya:\n",
    "<br>\n",
    "<center><img src=\"gambar/statement_python.png\" alt=\"Statements\"></center>"
   ]
  },
  {
   "cell_type": "markdown",
   "metadata": {
    "slideshow": {
     "slide_type": "subslide"
    }
   },
   "source": [
    "### <center><font color=\"blue\">Keampuhan Python</font></center>\n",
    "\n",
    "- Acapkali beberapa baris perintah harus dijalankan utk menyelesaikan suatu persoalan\n",
    "- Satu cara utk menjalankan beberapa perintah sekaligus adl dgn menggunakan <font color=\"red\">fungsi</font>\n",
    "<br>\n"
   ]
  },
  {
   "cell_type": "markdown",
   "metadata": {
    "slideshow": {
     "slide_type": "subslide"
    }
   },
   "source": [
    "### <center><font color=\"blue\">Keampuhan Python</font></center>\n",
    "<br>\n",
    "<center><img src=\"gambar/definisi_fungsi.png\" alt=\"Definisi fungsi\"></center>\n",
    "\n",
    "- Baris pertama memerintahkan Python utk <font color=\"red\">mendefinisikan</font> fungsi baru bernama `halo`\n",
    "- Dua baris berikutnya ditulis menjorok utk menyatakan mereka adl bagian dr fungsi `halo`\n",
    "- Baris kosong yg terakhir (dibuat dgn menekan tombol `[Enter]` dua kali) menyatakan definisi tsb sdh selesai"
   ]
  },
  {
   "cell_type": "markdown",
   "metadata": {
    "slideshow": {
     "slide_type": "subslide"
    }
   },
   "source": [
    "### <center><font color=\"blue\">Keampuhan Python</font></center>\n",
    "<br>\n",
    "<center><img src=\"gambar/definisi_fungsi.png\" alt=\"Definisi fungsi\"></center>\n",
    "\n",
    "- Perhatikan bhw belum terjadi apa-apa stlh fungsi `halo` didefinisikan!\n",
    "- Fungsi `halo` sdh didefinisikan namun Python belum diperintahkan utk menjalankan fungsi tsb\n",
    "- Suatu fungsi <font color=\"red\">dipanggil</font>/dijalankan dgn mengetikkan namanya:\n",
    "<br>\n",
    "<center><img src=\"gambar/panggil_fungsi.png\" alt=\"Panggil fungsi\"></center>"
   ]
  },
  {
   "cell_type": "markdown",
   "metadata": {
    "slideshow": {
     "slide_type": "subslide"
    }
   },
   "source": [
    "### <center><font color=\"blue\">Keampuhan Python</font></center>\n",
    "\n",
    "- Apa kegunaan tanda-kurung `()`?\n",
    "- Perintah dpt memiliki bagian yg berubah-ubah yg dinamakan <font color=\"red\">parameter</font> yg dituliskan dlm tanda-kurung `()`\n",
    "<br>\n",
    "<center><img src=\"gambar/definisi_parameter.png\" alt=\"Fungsi dgn parameter\"></center>"
   ]
  },
  {
   "cell_type": "markdown",
   "metadata": {
    "slideshow": {
     "slide_type": "subslide"
    }
   },
   "source": [
    "### <center><font color=\"blue\">Keampuhan Python</font></center>\n",
    "<br>\n",
    "<center><img src=\"gambar/panggil_parameter.png\" alt=\"Panggil fungsi dgn parameter\"></center>\n",
    "- Ktk parameter dipergunakan mk output dr fungsi dpt disesuaikan dgn keadaan"
   ]
  },
  {
   "cell_type": "markdown",
   "metadata": {
    "slideshow": {
     "slide_type": "subslide"
    }
   },
   "source": [
    "### <center><font color=\"blue\">Keampuhan Python</font></center>\n",
    "\n",
    "- Ktk keluar dr _interpreter_ Python, fungsi$^2$ yg telah didefinisikan akan lenyap semua!\n",
    "- Program lazimnya tersusun dr fungsi$^2$, modul$^2$ dan kode-sumber yg disimpan di dlm memori sekunder (spt _hard disk_) shg dpt dipergunakan berkali-kali\n",
    "- Berkas <font color=\"red\">modul</font> adl _file_ yg dibuat dgn perangkat-lunak penyunting teks (disimpan sbg _plain text_) yg berisikan berbagai definisi fungsi yg saling terkait\n",
    "- Utk menghasilkan program yg lengkap, pemrogram lazimnya menggunakan lingkungan pengembangan program terpadu (_Integrated Development Environment_ atau IDE) semacam IDLE Python dan Jupyter Notebook\n",
    "- Lingkungan pengembangan spt ini menyediakan berbagai kemudahan, spt\n",
    "    - penjorokan yg otomatis\n",
    "    - pewarnaan teks kode berdasarkan sintaksis\n",
    "    - bantuan berdasarkan kata-kunci & nama modul <font color=\"red\">pustaka</font>"
   ]
  }
 ],
 "metadata": {
  "kernelspec": {
   "display_name": "Python 3",
   "language": "python",
   "name": "python3"
  },
  "language_info": {
   "codemirror_mode": {
    "name": "ipython",
    "version": 3
   },
   "file_extension": ".py",
   "mimetype": "text/x-python",
   "name": "python",
   "nbconvert_exporter": "python",
   "pygments_lexer": "ipython3",
   "version": "3.6.2"
  },
  "livereveal": {
   "controls": false,
   "scroll": true,
   "start_slideshow_at": "selected",
   "theme": "simple",
   "transition": "concave"
  }
 },
 "nbformat": 4,
 "nbformat_minor": 2
}
